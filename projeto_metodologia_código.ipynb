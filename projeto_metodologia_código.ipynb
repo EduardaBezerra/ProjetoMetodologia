{
  "nbformat": 4,
  "nbformat_minor": 0,
  "metadata": {
    "colab": {
      "name": "projeto metodologia código.ipynb",
      "provenance": []
    },
    "kernelspec": {
      "name": "python3",
      "display_name": "Python 3"
    },
    "language_info": {
      "name": "python"
    }
  },
  "cells": [
    {
      "cell_type": "code",
      "metadata": {
        "id": "JyXMtOiYj3n9",
        "colab": {
          "base_uri": "https://localhost:8080/"
        },
        "outputId": "c941e92d-872b-47bb-a36f-6d58fe1c4ce1"
      },
      "source": [
        "import pandas as pd\n",
        "import numpy as np\n",
        "import matplotlib.pyplot as plt\n",
        "import seaborn as sns\n",
        "from palettable.colorbrewer.qualitative import Pastel1_7\n",
        "from google.colab import drive\n",
        "import matplotlib.patches as mpatches\n",
        "drive.mount('/content/drive')"
      ],
      "execution_count": null,
      "outputs": [
        {
          "output_type": "stream",
          "text": [
            "Drive already mounted at /content/drive; to attempt to forcibly remount, call drive.mount(\"/content/drive\", force_remount=True).\n"
          ],
          "name": "stdout"
        }
      ]
    },
    {
      "cell_type": "code",
      "metadata": {
        "id": "AcUMHQq1Hoc5"
      },
      "source": [
        "%matplotlib inline"
      ],
      "execution_count": null,
      "outputs": []
    },
    {
      "cell_type": "code",
      "metadata": {
        "id": "5OU0MjGkmKKK",
        "colab": {
          "base_uri": "https://localhost:8080/",
          "height": 414
        },
        "outputId": "c730cf69-6a7c-4299-bc68-c6b7baade12b"
      },
      "source": [
        "#Total de Alunos Matriculados\n",
        "val = 51\n",
        "\n",
        "df = pd.read_excel(\"/content/drive/MyDrive/bd_metodologia .xlsx\")\n",
        "\n",
        "df"
      ],
      "execution_count": null,
      "outputs": [
        {
          "output_type": "execute_result",
          "data": {
            "text/html": [
              "<div>\n",
              "<style scoped>\n",
              "    .dataframe tbody tr th:only-of-type {\n",
              "        vertical-align: middle;\n",
              "    }\n",
              "\n",
              "    .dataframe tbody tr th {\n",
              "        vertical-align: top;\n",
              "    }\n",
              "\n",
              "    .dataframe thead th {\n",
              "        text-align: right;\n",
              "    }\n",
              "</style>\n",
              "<table border=\"1\" class=\"dataframe\">\n",
              "  <thead>\n",
              "    <tr style=\"text-align: right;\">\n",
              "      <th></th>\n",
              "      <th>ID</th>\n",
              "      <th>INTERAÇÃO</th>\n",
              "      <th>AULA</th>\n",
              "      <th>CANAL</th>\n",
              "      <th>ALUNO</th>\n",
              "      <th>SEXO</th>\n",
              "    </tr>\n",
              "  </thead>\n",
              "  <tbody>\n",
              "    <tr>\n",
              "      <th>0</th>\n",
              "      <td>1</td>\n",
              "      <td>Diálogo</td>\n",
              "      <td>2021-03-09</td>\n",
              "      <td>Microfone</td>\n",
              "      <td>Nefi Leite</td>\n",
              "      <td>Masculino</td>\n",
              "    </tr>\n",
              "    <tr>\n",
              "      <th>1</th>\n",
              "      <td>2</td>\n",
              "      <td>Resposta</td>\n",
              "      <td>2021-03-09</td>\n",
              "      <td>Microfone</td>\n",
              "      <td>Analaura Souza</td>\n",
              "      <td>Feminino</td>\n",
              "    </tr>\n",
              "    <tr>\n",
              "      <th>2</th>\n",
              "      <td>3</td>\n",
              "      <td>Resposta</td>\n",
              "      <td>2021-03-09</td>\n",
              "      <td>Microfone</td>\n",
              "      <td>Rafael Oliveira</td>\n",
              "      <td>Masculino</td>\n",
              "    </tr>\n",
              "    <tr>\n",
              "      <th>3</th>\n",
              "      <td>4</td>\n",
              "      <td>Resposta</td>\n",
              "      <td>2021-03-09</td>\n",
              "      <td>Microfone</td>\n",
              "      <td>Marco Antonio</td>\n",
              "      <td>Masculino</td>\n",
              "    </tr>\n",
              "    <tr>\n",
              "      <th>4</th>\n",
              "      <td>5</td>\n",
              "      <td>Resposta</td>\n",
              "      <td>2021-03-09</td>\n",
              "      <td>Microfone</td>\n",
              "      <td>Luiz Silva</td>\n",
              "      <td>Masculino</td>\n",
              "    </tr>\n",
              "    <tr>\n",
              "      <th>...</th>\n",
              "      <td>...</td>\n",
              "      <td>...</td>\n",
              "      <td>...</td>\n",
              "      <td>...</td>\n",
              "      <td>...</td>\n",
              "      <td>...</td>\n",
              "    </tr>\n",
              "    <tr>\n",
              "      <th>2068</th>\n",
              "      <td>2069</td>\n",
              "      <td>Despedida</td>\n",
              "      <td>2021-06-08</td>\n",
              "      <td>Chat</td>\n",
              "      <td>Carlos Eduardo</td>\n",
              "      <td>Masculino</td>\n",
              "    </tr>\n",
              "    <tr>\n",
              "      <th>2069</th>\n",
              "      <td>2070</td>\n",
              "      <td>Despedida</td>\n",
              "      <td>2021-06-08</td>\n",
              "      <td>Chat</td>\n",
              "      <td>Diogo Hiebert</td>\n",
              "      <td>Masculino</td>\n",
              "    </tr>\n",
              "    <tr>\n",
              "      <th>2070</th>\n",
              "      <td>2071</td>\n",
              "      <td>Despedida</td>\n",
              "      <td>2021-06-08</td>\n",
              "      <td>Chat</td>\n",
              "      <td>Taylor Nobrega</td>\n",
              "      <td>Masculino</td>\n",
              "    </tr>\n",
              "    <tr>\n",
              "      <th>2071</th>\n",
              "      <td>2072</td>\n",
              "      <td>Despedida</td>\n",
              "      <td>2021-06-08</td>\n",
              "      <td>Chat</td>\n",
              "      <td>Analaura Souza</td>\n",
              "      <td>Feminino</td>\n",
              "    </tr>\n",
              "    <tr>\n",
              "      <th>2072</th>\n",
              "      <td>2073</td>\n",
              "      <td>Despedida</td>\n",
              "      <td>2021-06-08</td>\n",
              "      <td>Chat</td>\n",
              "      <td>Vinícius Fernandes</td>\n",
              "      <td>Masculino</td>\n",
              "    </tr>\n",
              "  </tbody>\n",
              "</table>\n",
              "<p>2073 rows × 6 columns</p>\n",
              "</div>"
            ],
            "text/plain": [
              "        ID  INTERAÇÃO       AULA      CANAL               ALUNO       SEXO\n",
              "0        1    Diálogo 2021-03-09  Microfone          Nefi Leite  Masculino\n",
              "1        2   Resposta 2021-03-09  Microfone      Analaura Souza   Feminino\n",
              "2        3   Resposta 2021-03-09  Microfone     Rafael Oliveira  Masculino\n",
              "3        4   Resposta 2021-03-09  Microfone       Marco Antonio  Masculino\n",
              "4        5   Resposta 2021-03-09  Microfone          Luiz Silva  Masculino\n",
              "...    ...        ...        ...        ...                 ...        ...\n",
              "2068  2069  Despedida 2021-06-08       Chat      Carlos Eduardo  Masculino\n",
              "2069  2070  Despedida 2021-06-08       Chat       Diogo Hiebert  Masculino\n",
              "2070  2071  Despedida 2021-06-08       Chat      Taylor Nobrega  Masculino\n",
              "2071  2072  Despedida 2021-06-08       Chat      Analaura Souza   Feminino\n",
              "2072  2073  Despedida 2021-06-08       Chat  Vinícius Fernandes  Masculino\n",
              "\n",
              "[2073 rows x 6 columns]"
            ]
          },
          "metadata": {
            "tags": []
          },
          "execution_count": 63
        }
      ]
    },
    {
      "cell_type": "code",
      "metadata": {
        "id": "_SXWr5G_pdd1",
        "colab": {
          "base_uri": "https://localhost:8080/",
          "height": 1000
        },
        "outputId": "1461d4cb-8594-4960-f35d-0630ae897d94"
      },
      "source": [
        "df.groupby(['ALUNO']).count()"
      ],
      "execution_count": null,
      "outputs": [
        {
          "output_type": "execute_result",
          "data": {
            "text/html": [
              "<div>\n",
              "<style scoped>\n",
              "    .dataframe tbody tr th:only-of-type {\n",
              "        vertical-align: middle;\n",
              "    }\n",
              "\n",
              "    .dataframe tbody tr th {\n",
              "        vertical-align: top;\n",
              "    }\n",
              "\n",
              "    .dataframe thead th {\n",
              "        text-align: right;\n",
              "    }\n",
              "</style>\n",
              "<table border=\"1\" class=\"dataframe\">\n",
              "  <thead>\n",
              "    <tr style=\"text-align: right;\">\n",
              "      <th></th>\n",
              "      <th>ID</th>\n",
              "      <th>INTERAÇÃO</th>\n",
              "      <th>AULA</th>\n",
              "      <th>CANAL</th>\n",
              "      <th>SEXO</th>\n",
              "    </tr>\n",
              "    <tr>\n",
              "      <th>ALUNO</th>\n",
              "      <th></th>\n",
              "      <th></th>\n",
              "      <th></th>\n",
              "      <th></th>\n",
              "      <th></th>\n",
              "    </tr>\n",
              "  </thead>\n",
              "  <tbody>\n",
              "    <tr>\n",
              "      <th>Allan Fernandes</th>\n",
              "      <td>17</td>\n",
              "      <td>17</td>\n",
              "      <td>17</td>\n",
              "      <td>17</td>\n",
              "      <td>17</td>\n",
              "    </tr>\n",
              "    <tr>\n",
              "      <th>Ana Luisa Miranda</th>\n",
              "      <td>55</td>\n",
              "      <td>55</td>\n",
              "      <td>55</td>\n",
              "      <td>55</td>\n",
              "      <td>55</td>\n",
              "    </tr>\n",
              "    <tr>\n",
              "      <th>Analaura Souza</th>\n",
              "      <td>79</td>\n",
              "      <td>79</td>\n",
              "      <td>79</td>\n",
              "      <td>79</td>\n",
              "      <td>79</td>\n",
              "    </tr>\n",
              "    <tr>\n",
              "      <th>Arthur Henrique</th>\n",
              "      <td>28</td>\n",
              "      <td>28</td>\n",
              "      <td>28</td>\n",
              "      <td>28</td>\n",
              "      <td>28</td>\n",
              "    </tr>\n",
              "    <tr>\n",
              "      <th>Bertrand Bezerra</th>\n",
              "      <td>93</td>\n",
              "      <td>93</td>\n",
              "      <td>93</td>\n",
              "      <td>93</td>\n",
              "      <td>93</td>\n",
              "    </tr>\n",
              "    <tr>\n",
              "      <th>Bruno Gustavo</th>\n",
              "      <td>49</td>\n",
              "      <td>49</td>\n",
              "      <td>49</td>\n",
              "      <td>49</td>\n",
              "      <td>49</td>\n",
              "    </tr>\n",
              "    <tr>\n",
              "      <th>Bruno Lopes</th>\n",
              "      <td>9</td>\n",
              "      <td>9</td>\n",
              "      <td>9</td>\n",
              "      <td>9</td>\n",
              "      <td>9</td>\n",
              "    </tr>\n",
              "    <tr>\n",
              "      <th>Camila Alves</th>\n",
              "      <td>178</td>\n",
              "      <td>178</td>\n",
              "      <td>178</td>\n",
              "      <td>178</td>\n",
              "      <td>178</td>\n",
              "    </tr>\n",
              "    <tr>\n",
              "      <th>Carlos Eduardo</th>\n",
              "      <td>19</td>\n",
              "      <td>19</td>\n",
              "      <td>19</td>\n",
              "      <td>19</td>\n",
              "      <td>19</td>\n",
              "    </tr>\n",
              "    <tr>\n",
              "      <th>Diogo Hiebert</th>\n",
              "      <td>13</td>\n",
              "      <td>13</td>\n",
              "      <td>13</td>\n",
              "      <td>13</td>\n",
              "      <td>13</td>\n",
              "    </tr>\n",
              "    <tr>\n",
              "      <th>Déborah Sallen</th>\n",
              "      <td>16</td>\n",
              "      <td>16</td>\n",
              "      <td>16</td>\n",
              "      <td>16</td>\n",
              "      <td>16</td>\n",
              "    </tr>\n",
              "    <tr>\n",
              "      <th>Felipe Suassuna</th>\n",
              "      <td>1</td>\n",
              "      <td>1</td>\n",
              "      <td>1</td>\n",
              "      <td>1</td>\n",
              "      <td>1</td>\n",
              "    </tr>\n",
              "    <tr>\n",
              "      <th>Guilherme Nogueira</th>\n",
              "      <td>16</td>\n",
              "      <td>16</td>\n",
              "      <td>16</td>\n",
              "      <td>16</td>\n",
              "      <td>16</td>\n",
              "    </tr>\n",
              "    <tr>\n",
              "      <th>Gyanna Carvalho</th>\n",
              "      <td>10</td>\n",
              "      <td>10</td>\n",
              "      <td>10</td>\n",
              "      <td>10</td>\n",
              "      <td>10</td>\n",
              "    </tr>\n",
              "    <tr>\n",
              "      <th>Hélio II</th>\n",
              "      <td>13</td>\n",
              "      <td>13</td>\n",
              "      <td>13</td>\n",
              "      <td>13</td>\n",
              "      <td>13</td>\n",
              "    </tr>\n",
              "    <tr>\n",
              "      <th>Igor Matheus</th>\n",
              "      <td>18</td>\n",
              "      <td>18</td>\n",
              "      <td>18</td>\n",
              "      <td>18</td>\n",
              "      <td>18</td>\n",
              "    </tr>\n",
              "    <tr>\n",
              "      <th>Ivan Jr</th>\n",
              "      <td>2</td>\n",
              "      <td>2</td>\n",
              "      <td>2</td>\n",
              "      <td>2</td>\n",
              "      <td>2</td>\n",
              "    </tr>\n",
              "    <tr>\n",
              "      <th>Joseilton Oliveira</th>\n",
              "      <td>2</td>\n",
              "      <td>2</td>\n",
              "      <td>2</td>\n",
              "      <td>2</td>\n",
              "      <td>2</td>\n",
              "    </tr>\n",
              "    <tr>\n",
              "      <th>João Castro</th>\n",
              "      <td>1</td>\n",
              "      <td>1</td>\n",
              "      <td>1</td>\n",
              "      <td>1</td>\n",
              "      <td>1</td>\n",
              "    </tr>\n",
              "    <tr>\n",
              "      <th>João Henrique</th>\n",
              "      <td>83</td>\n",
              "      <td>83</td>\n",
              "      <td>83</td>\n",
              "      <td>83</td>\n",
              "      <td>83</td>\n",
              "    </tr>\n",
              "    <tr>\n",
              "      <th>João Oliveira</th>\n",
              "      <td>9</td>\n",
              "      <td>9</td>\n",
              "      <td>9</td>\n",
              "      <td>9</td>\n",
              "      <td>9</td>\n",
              "    </tr>\n",
              "    <tr>\n",
              "      <th>João Victor</th>\n",
              "      <td>71</td>\n",
              "      <td>71</td>\n",
              "      <td>71</td>\n",
              "      <td>71</td>\n",
              "      <td>71</td>\n",
              "    </tr>\n",
              "    <tr>\n",
              "      <th>Leanderson Pinheiro</th>\n",
              "      <td>43</td>\n",
              "      <td>43</td>\n",
              "      <td>43</td>\n",
              "      <td>43</td>\n",
              "      <td>43</td>\n",
              "    </tr>\n",
              "    <tr>\n",
              "      <th>Luiz Felipe</th>\n",
              "      <td>13</td>\n",
              "      <td>13</td>\n",
              "      <td>13</td>\n",
              "      <td>13</td>\n",
              "      <td>13</td>\n",
              "    </tr>\n",
              "    <tr>\n",
              "      <th>Luiz Paulo</th>\n",
              "      <td>45</td>\n",
              "      <td>45</td>\n",
              "      <td>45</td>\n",
              "      <td>45</td>\n",
              "      <td>45</td>\n",
              "    </tr>\n",
              "    <tr>\n",
              "      <th>Luiz Silva</th>\n",
              "      <td>133</td>\n",
              "      <td>133</td>\n",
              "      <td>133</td>\n",
              "      <td>133</td>\n",
              "      <td>133</td>\n",
              "    </tr>\n",
              "    <tr>\n",
              "      <th>Marco Antonio</th>\n",
              "      <td>80</td>\n",
              "      <td>80</td>\n",
              "      <td>80</td>\n",
              "      <td>80</td>\n",
              "      <td>80</td>\n",
              "    </tr>\n",
              "    <tr>\n",
              "      <th>Marcos Oliveira</th>\n",
              "      <td>70</td>\n",
              "      <td>70</td>\n",
              "      <td>70</td>\n",
              "      <td>70</td>\n",
              "      <td>70</td>\n",
              "    </tr>\n",
              "    <tr>\n",
              "      <th>Maria Eduarda</th>\n",
              "      <td>169</td>\n",
              "      <td>169</td>\n",
              "      <td>169</td>\n",
              "      <td>169</td>\n",
              "      <td>169</td>\n",
              "    </tr>\n",
              "    <tr>\n",
              "      <th>Mateus Candido</th>\n",
              "      <td>62</td>\n",
              "      <td>62</td>\n",
              "      <td>62</td>\n",
              "      <td>62</td>\n",
              "      <td>62</td>\n",
              "    </tr>\n",
              "    <tr>\n",
              "      <th>Mateus Freitas</th>\n",
              "      <td>95</td>\n",
              "      <td>95</td>\n",
              "      <td>95</td>\n",
              "      <td>95</td>\n",
              "      <td>95</td>\n",
              "    </tr>\n",
              "    <tr>\n",
              "      <th>Mateus Lima</th>\n",
              "      <td>21</td>\n",
              "      <td>21</td>\n",
              "      <td>21</td>\n",
              "      <td>21</td>\n",
              "      <td>21</td>\n",
              "    </tr>\n",
              "    <tr>\n",
              "      <th>Matheus Ferreira</th>\n",
              "      <td>12</td>\n",
              "      <td>12</td>\n",
              "      <td>12</td>\n",
              "      <td>12</td>\n",
              "      <td>12</td>\n",
              "    </tr>\n",
              "    <tr>\n",
              "      <th>Moriancumer Souza</th>\n",
              "      <td>4</td>\n",
              "      <td>4</td>\n",
              "      <td>4</td>\n",
              "      <td>4</td>\n",
              "      <td>4</td>\n",
              "    </tr>\n",
              "    <tr>\n",
              "      <th>Nathan Souza</th>\n",
              "      <td>29</td>\n",
              "      <td>29</td>\n",
              "      <td>29</td>\n",
              "      <td>29</td>\n",
              "      <td>29</td>\n",
              "    </tr>\n",
              "    <tr>\n",
              "      <th>Nefi Leite</th>\n",
              "      <td>32</td>\n",
              "      <td>32</td>\n",
              "      <td>32</td>\n",
              "      <td>32</td>\n",
              "      <td>32</td>\n",
              "    </tr>\n",
              "    <tr>\n",
              "      <th>Nelly Stanford</th>\n",
              "      <td>67</td>\n",
              "      <td>67</td>\n",
              "      <td>67</td>\n",
              "      <td>67</td>\n",
              "      <td>67</td>\n",
              "    </tr>\n",
              "    <tr>\n",
              "      <th>Pedro Filho</th>\n",
              "      <td>45</td>\n",
              "      <td>45</td>\n",
              "      <td>45</td>\n",
              "      <td>45</td>\n",
              "      <td>45</td>\n",
              "    </tr>\n",
              "    <tr>\n",
              "      <th>Pedro Lucas</th>\n",
              "      <td>42</td>\n",
              "      <td>42</td>\n",
              "      <td>42</td>\n",
              "      <td>42</td>\n",
              "      <td>42</td>\n",
              "    </tr>\n",
              "    <tr>\n",
              "      <th>Pedro Sotero</th>\n",
              "      <td>5</td>\n",
              "      <td>5</td>\n",
              "      <td>5</td>\n",
              "      <td>5</td>\n",
              "      <td>5</td>\n",
              "    </tr>\n",
              "    <tr>\n",
              "      <th>Rafael Oliveira</th>\n",
              "      <td>23</td>\n",
              "      <td>23</td>\n",
              "      <td>23</td>\n",
              "      <td>23</td>\n",
              "      <td>23</td>\n",
              "    </tr>\n",
              "    <tr>\n",
              "      <th>Renato Melo</th>\n",
              "      <td>1</td>\n",
              "      <td>1</td>\n",
              "      <td>1</td>\n",
              "      <td>1</td>\n",
              "      <td>1</td>\n",
              "    </tr>\n",
              "    <tr>\n",
              "      <th>Rodrigo Nascimento</th>\n",
              "      <td>90</td>\n",
              "      <td>90</td>\n",
              "      <td>90</td>\n",
              "      <td>90</td>\n",
              "      <td>90</td>\n",
              "    </tr>\n",
              "    <tr>\n",
              "      <th>Rodrigo Souza</th>\n",
              "      <td>50</td>\n",
              "      <td>50</td>\n",
              "      <td>50</td>\n",
              "      <td>50</td>\n",
              "      <td>50</td>\n",
              "    </tr>\n",
              "    <tr>\n",
              "      <th>Saulo Maranhão</th>\n",
              "      <td>20</td>\n",
              "      <td>20</td>\n",
              "      <td>20</td>\n",
              "      <td>20</td>\n",
              "      <td>20</td>\n",
              "    </tr>\n",
              "    <tr>\n",
              "      <th>Taylor Nobrega</th>\n",
              "      <td>17</td>\n",
              "      <td>17</td>\n",
              "      <td>17</td>\n",
              "      <td>17</td>\n",
              "      <td>17</td>\n",
              "    </tr>\n",
              "    <tr>\n",
              "      <th>Thomas Monteiro</th>\n",
              "      <td>79</td>\n",
              "      <td>79</td>\n",
              "      <td>79</td>\n",
              "      <td>79</td>\n",
              "      <td>79</td>\n",
              "    </tr>\n",
              "    <tr>\n",
              "      <th>Victor Mororó</th>\n",
              "      <td>8</td>\n",
              "      <td>8</td>\n",
              "      <td>8</td>\n",
              "      <td>8</td>\n",
              "      <td>8</td>\n",
              "    </tr>\n",
              "    <tr>\n",
              "      <th>Vinícius Fernandes</th>\n",
              "      <td>21</td>\n",
              "      <td>21</td>\n",
              "      <td>21</td>\n",
              "      <td>21</td>\n",
              "      <td>21</td>\n",
              "    </tr>\n",
              "    <tr>\n",
              "      <th>Virgílio Neto</th>\n",
              "      <td>6</td>\n",
              "      <td>6</td>\n",
              "      <td>6</td>\n",
              "      <td>6</td>\n",
              "      <td>6</td>\n",
              "    </tr>\n",
              "    <tr>\n",
              "      <th>Wesley Silva</th>\n",
              "      <td>9</td>\n",
              "      <td>9</td>\n",
              "      <td>9</td>\n",
              "      <td>9</td>\n",
              "      <td>9</td>\n",
              "    </tr>\n",
              "  </tbody>\n",
              "</table>\n",
              "</div>"
            ],
            "text/plain": [
              "                      ID  INTERAÇÃO  AULA  CANAL  SEXO\n",
              "ALUNO                                                 \n",
              "Allan Fernandes       17         17    17     17    17\n",
              "Ana Luisa Miranda     55         55    55     55    55\n",
              "Analaura Souza        79         79    79     79    79\n",
              "Arthur Henrique       28         28    28     28    28\n",
              "Bertrand Bezerra      93         93    93     93    93\n",
              "Bruno Gustavo         49         49    49     49    49\n",
              "Bruno Lopes            9          9     9      9     9\n",
              "Camila Alves         178        178   178    178   178\n",
              "Carlos Eduardo        19         19    19     19    19\n",
              "Diogo Hiebert         13         13    13     13    13\n",
              "Déborah Sallen        16         16    16     16    16\n",
              "Felipe Suassuna        1          1     1      1     1\n",
              "Guilherme Nogueira    16         16    16     16    16\n",
              "Gyanna Carvalho       10         10    10     10    10\n",
              "Hélio II              13         13    13     13    13\n",
              "Igor Matheus          18         18    18     18    18\n",
              "Ivan Jr                2          2     2      2     2\n",
              "Joseilton Oliveira     2          2     2      2     2\n",
              "João Castro            1          1     1      1     1\n",
              "João Henrique         83         83    83     83    83\n",
              "João Oliveira          9          9     9      9     9\n",
              "João Victor           71         71    71     71    71\n",
              "Leanderson Pinheiro   43         43    43     43    43\n",
              "Luiz Felipe           13         13    13     13    13\n",
              "Luiz Paulo            45         45    45     45    45\n",
              "Luiz Silva           133        133   133    133   133\n",
              "Marco Antonio         80         80    80     80    80\n",
              "Marcos Oliveira       70         70    70     70    70\n",
              "Maria Eduarda        169        169   169    169   169\n",
              "Mateus Candido        62         62    62     62    62\n",
              "Mateus Freitas        95         95    95     95    95\n",
              "Mateus Lima           21         21    21     21    21\n",
              "Matheus Ferreira      12         12    12     12    12\n",
              "Moriancumer Souza      4          4     4      4     4\n",
              "Nathan Souza          29         29    29     29    29\n",
              "Nefi Leite            32         32    32     32    32\n",
              "Nelly Stanford        67         67    67     67    67\n",
              "Pedro Filho           45         45    45     45    45\n",
              "Pedro Lucas           42         42    42     42    42\n",
              "Pedro Sotero           5          5     5      5     5\n",
              "Rafael Oliveira       23         23    23     23    23\n",
              "Renato Melo            1          1     1      1     1\n",
              "Rodrigo Nascimento    90         90    90     90    90\n",
              "Rodrigo Souza         50         50    50     50    50\n",
              "Saulo Maranhão        20         20    20     20    20\n",
              "Taylor Nobrega        17         17    17     17    17\n",
              "Thomas Monteiro       79         79    79     79    79\n",
              "Victor Mororó          8          8     8      8     8\n",
              "Vinícius Fernandes    21         21    21     21    21\n",
              "Virgílio Neto          6          6     6      6     6\n",
              "Wesley Silva           9          9     9      9     9"
            ]
          },
          "metadata": {
            "tags": []
          },
          "execution_count": 64
        }
      ]
    },
    {
      "cell_type": "code",
      "metadata": {
        "id": "aC5LLjaJqh9F",
        "colab": {
          "base_uri": "https://localhost:8080/"
        },
        "outputId": "da5ed1f4-919c-4492-b414-39b7786b038e"
      },
      "source": [
        "df_aux = df.groupby(['ALUNO']).count()\n",
        "\n",
        "for i in df_aux.iterrows():\n",
        "   print(i[0])"
      ],
      "execution_count": null,
      "outputs": [
        {
          "output_type": "stream",
          "text": [
            "Allan Fernandes\n",
            "Ana Luisa Miranda\n",
            "Analaura Souza\n",
            "Arthur Henrique\n",
            "Bertrand Bezerra\n",
            "Bruno Gustavo\n",
            "Bruno Lopes\n",
            "Camila Alves\n",
            "Carlos Eduardo\n",
            "Diogo Hiebert\n",
            "Déborah Sallen\n",
            "Felipe Suassuna\n",
            "Guilherme Nogueira\n",
            "Gyanna Carvalho\n",
            "Hélio II\n",
            "Igor Matheus\n",
            "Ivan Jr\n",
            "Joseilton Oliveira\n",
            "João Castro\n",
            "João Henrique\n",
            "João Oliveira\n",
            "João Victor\n",
            "Leanderson Pinheiro\n",
            "Luiz Felipe\n",
            "Luiz Paulo\n",
            "Luiz Silva\n",
            "Marco Antonio\n",
            "Marcos Oliveira\n",
            "Maria Eduarda \n",
            "Mateus Candido\n",
            "Mateus Freitas\n",
            "Mateus Lima\n",
            "Matheus Ferreira\n",
            "Moriancumer Souza\n",
            "Nathan Souza\n",
            "Nefi Leite\n",
            "Nelly Stanford \n",
            "Pedro Filho\n",
            "Pedro Lucas\n",
            "Pedro Sotero\n",
            "Rafael Oliveira\n",
            "Renato Melo\n",
            "Rodrigo Nascimento\n",
            "Rodrigo Souza\n",
            "Saulo Maranhão\n",
            "Taylor Nobrega\n",
            "Thomas Monteiro\n",
            "Victor Mororó\n",
            "Vinícius Fernandes\n",
            "Virgílio Neto\n",
            "Wesley Silva\n"
          ],
          "name": "stdout"
        }
      ]
    },
    {
      "cell_type": "markdown",
      "metadata": {
        "id": "0MjLaGJ3TUXY"
      },
      "source": [
        "# Quantidade de alunos que participaram da aula "
      ]
    },
    {
      "cell_type": "code",
      "metadata": {
        "id": "BBflGi3-IYsK",
        "colab": {
          "base_uri": "https://localhost:8080/"
        },
        "outputId": "87ac8bd8-92fd-490e-cc9d-a06f0f560dc3"
      },
      "source": [
        "df_aux = df.groupby(['ALUNO']).count()\n",
        "\n",
        "#Total de Alunos Participantes\n",
        "pt = len(df_aux)\n",
        "\n",
        "pt"
      ],
      "execution_count": null,
      "outputs": [
        {
          "output_type": "execute_result",
          "data": {
            "text/plain": [
              "51"
            ]
          },
          "metadata": {
            "tags": []
          },
          "execution_count": 66
        }
      ]
    },
    {
      "cell_type": "code",
      "metadata": {
        "id": "2Ow1espxSJqQ",
        "colab": {
          "base_uri": "https://localhost:8080/"
        },
        "outputId": "83e003e6-c91a-4dd4-a4e9-2440e9a3324b"
      },
      "source": [
        "df_aux = df.groupby(['SEXO']).count()\n",
        "\n",
        "sexos = []\n",
        "for i in df_aux.iterrows():\n",
        "  sexos += [i[1][1]]\n",
        "sexos"
      ],
      "execution_count": null,
      "outputs": [
        {
          "output_type": "execute_result",
          "data": {
            "text/plain": [
              "[574, 1499]"
            ]
          },
          "metadata": {
            "tags": []
          },
          "execution_count": 67
        }
      ]
    },
    {
      "cell_type": "code",
      "metadata": {
        "id": "eDz_hnBLAr1k",
        "colab": {
          "base_uri": "https://localhost:8080/",
          "height": 692
        },
        "outputId": "647cdb17-915a-4cfe-d572-f1def84d7316"
      },
      "source": [
        "df.groupby(['AULA','CANAL']).count()\n",
        "\n"
      ],
      "execution_count": null,
      "outputs": [
        {
          "output_type": "execute_result",
          "data": {
            "text/html": [
              "<div>\n",
              "<style scoped>\n",
              "    .dataframe tbody tr th:only-of-type {\n",
              "        vertical-align: middle;\n",
              "    }\n",
              "\n",
              "    .dataframe tbody tr th {\n",
              "        vertical-align: top;\n",
              "    }\n",
              "\n",
              "    .dataframe thead th {\n",
              "        text-align: right;\n",
              "    }\n",
              "</style>\n",
              "<table border=\"1\" class=\"dataframe\">\n",
              "  <thead>\n",
              "    <tr style=\"text-align: right;\">\n",
              "      <th></th>\n",
              "      <th></th>\n",
              "      <th>ID</th>\n",
              "      <th>INTERAÇÃO</th>\n",
              "      <th>ALUNO</th>\n",
              "      <th>SEXO</th>\n",
              "    </tr>\n",
              "    <tr>\n",
              "      <th>AULA</th>\n",
              "      <th>CANAL</th>\n",
              "      <th></th>\n",
              "      <th></th>\n",
              "      <th></th>\n",
              "      <th></th>\n",
              "    </tr>\n",
              "  </thead>\n",
              "  <tbody>\n",
              "    <tr>\n",
              "      <th rowspan=\"2\" valign=\"top\">2021-03-09</th>\n",
              "      <th>Chat</th>\n",
              "      <td>136</td>\n",
              "      <td>136</td>\n",
              "      <td>136</td>\n",
              "      <td>136</td>\n",
              "    </tr>\n",
              "    <tr>\n",
              "      <th>Microfone</th>\n",
              "      <td>41</td>\n",
              "      <td>41</td>\n",
              "      <td>41</td>\n",
              "      <td>41</td>\n",
              "    </tr>\n",
              "    <tr>\n",
              "      <th rowspan=\"2\" valign=\"top\">2021-03-23</th>\n",
              "      <th>Chat</th>\n",
              "      <td>381</td>\n",
              "      <td>381</td>\n",
              "      <td>381</td>\n",
              "      <td>381</td>\n",
              "    </tr>\n",
              "    <tr>\n",
              "      <th>Microfone</th>\n",
              "      <td>38</td>\n",
              "      <td>38</td>\n",
              "      <td>38</td>\n",
              "      <td>38</td>\n",
              "    </tr>\n",
              "    <tr>\n",
              "      <th rowspan=\"2\" valign=\"top\">2021-04-06</th>\n",
              "      <th>Chat</th>\n",
              "      <td>64</td>\n",
              "      <td>64</td>\n",
              "      <td>64</td>\n",
              "      <td>64</td>\n",
              "    </tr>\n",
              "    <tr>\n",
              "      <th>Microfone</th>\n",
              "      <td>22</td>\n",
              "      <td>22</td>\n",
              "      <td>22</td>\n",
              "      <td>22</td>\n",
              "    </tr>\n",
              "    <tr>\n",
              "      <th rowspan=\"2\" valign=\"top\">2021-04-13</th>\n",
              "      <th>Chat</th>\n",
              "      <td>172</td>\n",
              "      <td>172</td>\n",
              "      <td>172</td>\n",
              "      <td>172</td>\n",
              "    </tr>\n",
              "    <tr>\n",
              "      <th>Microfone</th>\n",
              "      <td>23</td>\n",
              "      <td>23</td>\n",
              "      <td>23</td>\n",
              "      <td>23</td>\n",
              "    </tr>\n",
              "    <tr>\n",
              "      <th rowspan=\"2\" valign=\"top\">2021-04-20</th>\n",
              "      <th>Chat</th>\n",
              "      <td>135</td>\n",
              "      <td>135</td>\n",
              "      <td>135</td>\n",
              "      <td>135</td>\n",
              "    </tr>\n",
              "    <tr>\n",
              "      <th>Microfone</th>\n",
              "      <td>49</td>\n",
              "      <td>49</td>\n",
              "      <td>49</td>\n",
              "      <td>49</td>\n",
              "    </tr>\n",
              "    <tr>\n",
              "      <th rowspan=\"2\" valign=\"top\">2021-05-04</th>\n",
              "      <th>Chat</th>\n",
              "      <td>214</td>\n",
              "      <td>214</td>\n",
              "      <td>214</td>\n",
              "      <td>214</td>\n",
              "    </tr>\n",
              "    <tr>\n",
              "      <th>Microfone</th>\n",
              "      <td>33</td>\n",
              "      <td>33</td>\n",
              "      <td>33</td>\n",
              "      <td>33</td>\n",
              "    </tr>\n",
              "    <tr>\n",
              "      <th rowspan=\"2\" valign=\"top\">2021-05-18</th>\n",
              "      <th>Chat</th>\n",
              "      <td>226</td>\n",
              "      <td>226</td>\n",
              "      <td>226</td>\n",
              "      <td>226</td>\n",
              "    </tr>\n",
              "    <tr>\n",
              "      <th>Microfone</th>\n",
              "      <td>18</td>\n",
              "      <td>18</td>\n",
              "      <td>18</td>\n",
              "      <td>18</td>\n",
              "    </tr>\n",
              "    <tr>\n",
              "      <th rowspan=\"2\" valign=\"top\">2021-05-25</th>\n",
              "      <th>Chat</th>\n",
              "      <td>125</td>\n",
              "      <td>125</td>\n",
              "      <td>125</td>\n",
              "      <td>125</td>\n",
              "    </tr>\n",
              "    <tr>\n",
              "      <th>Microfone</th>\n",
              "      <td>34</td>\n",
              "      <td>34</td>\n",
              "      <td>34</td>\n",
              "      <td>34</td>\n",
              "    </tr>\n",
              "    <tr>\n",
              "      <th rowspan=\"2\" valign=\"top\">2021-06-01</th>\n",
              "      <th>Chat</th>\n",
              "      <td>233</td>\n",
              "      <td>233</td>\n",
              "      <td>233</td>\n",
              "      <td>233</td>\n",
              "    </tr>\n",
              "    <tr>\n",
              "      <th>Microfone</th>\n",
              "      <td>10</td>\n",
              "      <td>10</td>\n",
              "      <td>10</td>\n",
              "      <td>10</td>\n",
              "    </tr>\n",
              "    <tr>\n",
              "      <th rowspan=\"2\" valign=\"top\">2021-06-08</th>\n",
              "      <th>Chat</th>\n",
              "      <td>107</td>\n",
              "      <td>107</td>\n",
              "      <td>107</td>\n",
              "      <td>107</td>\n",
              "    </tr>\n",
              "    <tr>\n",
              "      <th>Microfone</th>\n",
              "      <td>12</td>\n",
              "      <td>12</td>\n",
              "      <td>12</td>\n",
              "      <td>12</td>\n",
              "    </tr>\n",
              "  </tbody>\n",
              "</table>\n",
              "</div>"
            ],
            "text/plain": [
              "                       ID  INTERAÇÃO  ALUNO  SEXO\n",
              "AULA       CANAL                                 \n",
              "2021-03-09 Chat       136        136    136   136\n",
              "           Microfone   41         41     41    41\n",
              "2021-03-23 Chat       381        381    381   381\n",
              "           Microfone   38         38     38    38\n",
              "2021-04-06 Chat        64         64     64    64\n",
              "           Microfone   22         22     22    22\n",
              "2021-04-13 Chat       172        172    172   172\n",
              "           Microfone   23         23     23    23\n",
              "2021-04-20 Chat       135        135    135   135\n",
              "           Microfone   49         49     49    49\n",
              "2021-05-04 Chat       214        214    214   214\n",
              "           Microfone   33         33     33    33\n",
              "2021-05-18 Chat       226        226    226   226\n",
              "           Microfone   18         18     18    18\n",
              "2021-05-25 Chat       125        125    125   125\n",
              "           Microfone   34         34     34    34\n",
              "2021-06-01 Chat       233        233    233   233\n",
              "           Microfone   10         10     10    10\n",
              "2021-06-08 Chat       107        107    107   107\n",
              "           Microfone   12         12     12    12"
            ]
          },
          "metadata": {
            "tags": []
          },
          "execution_count": 68
        }
      ]
    },
    {
      "cell_type": "code",
      "metadata": {
        "id": "IzRZDdH1BhMW",
        "colab": {
          "base_uri": "https://localhost:8080/",
          "height": 141
        },
        "outputId": "f3bb86aa-c0eb-4583-9b5a-7bc5365f8a4f"
      },
      "source": [
        "df.groupby(['CANAL']).count()"
      ],
      "execution_count": null,
      "outputs": [
        {
          "output_type": "execute_result",
          "data": {
            "text/html": [
              "<div>\n",
              "<style scoped>\n",
              "    .dataframe tbody tr th:only-of-type {\n",
              "        vertical-align: middle;\n",
              "    }\n",
              "\n",
              "    .dataframe tbody tr th {\n",
              "        vertical-align: top;\n",
              "    }\n",
              "\n",
              "    .dataframe thead th {\n",
              "        text-align: right;\n",
              "    }\n",
              "</style>\n",
              "<table border=\"1\" class=\"dataframe\">\n",
              "  <thead>\n",
              "    <tr style=\"text-align: right;\">\n",
              "      <th></th>\n",
              "      <th>ID</th>\n",
              "      <th>INTERAÇÃO</th>\n",
              "      <th>AULA</th>\n",
              "      <th>ALUNO</th>\n",
              "      <th>SEXO</th>\n",
              "    </tr>\n",
              "    <tr>\n",
              "      <th>CANAL</th>\n",
              "      <th></th>\n",
              "      <th></th>\n",
              "      <th></th>\n",
              "      <th></th>\n",
              "      <th></th>\n",
              "    </tr>\n",
              "  </thead>\n",
              "  <tbody>\n",
              "    <tr>\n",
              "      <th>Chat</th>\n",
              "      <td>1793</td>\n",
              "      <td>1793</td>\n",
              "      <td>1793</td>\n",
              "      <td>1793</td>\n",
              "      <td>1793</td>\n",
              "    </tr>\n",
              "    <tr>\n",
              "      <th>Microfone</th>\n",
              "      <td>280</td>\n",
              "      <td>280</td>\n",
              "      <td>280</td>\n",
              "      <td>280</td>\n",
              "      <td>280</td>\n",
              "    </tr>\n",
              "  </tbody>\n",
              "</table>\n",
              "</div>"
            ],
            "text/plain": [
              "             ID  INTERAÇÃO  AULA  ALUNO  SEXO\n",
              "CANAL                                        \n",
              "Chat       1793       1793  1793   1793  1793\n",
              "Microfone   280        280   280    280   280"
            ]
          },
          "metadata": {
            "tags": []
          },
          "execution_count": 69
        }
      ]
    },
    {
      "cell_type": "code",
      "metadata": {
        "id": "4w4DAaZLaIzA",
        "colab": {
          "base_uri": "https://localhost:8080/",
          "height": 247
        },
        "outputId": "3e170675-8616-4b9a-955d-d3901a0d3e47"
      },
      "source": [
        "# create data \n",
        "names = ['Alunos\\nParticipantes\\n100%', 'Alunos não\\nparticipantes\\n0%']\n",
        "size = [100,0]\n",
        "\n",
        "# Create a pieplot\n",
        "#plt.pie(size,labels=names)\n",
        " \n",
        "# Create a circle at the center of the plot\n",
        "my_circle = plt.Circle( (0,0), 0.7, color='white')\n",
        "plt.pie(size, labels=[names[0],''],colors=[('#957DAD'),('#E0BBE4')])\n",
        "p = plt.gcf()\n",
        "p.gca().add_artist(my_circle)\n",
        "\n",
        "patch_first = mpatches.Patch(color=('#957DAD'), label=names[0])\n",
        "patch_second = mpatches.Patch(color=('#E0BBE4'), label=names[1])\n",
        "plt.legend(handles=[patch_first, patch_second],loc=4, bbox_to_anchor=(0.9, 0, 0.5, 1))\n",
        "\n",
        "p.savefig('g1.png')\n",
        "\n",
        "# Show the graph\n",
        "plt.show()"
      ],
      "execution_count": null,
      "outputs": [
        {
          "output_type": "display_data",
          "data": {
            "image/png": "[encoded data removed]",
            "text/plain": [
              "<Figure size 432x288 with 1 Axes>"
            ]
          },
          "metadata": {
            "tags": []
          }
        }
      ]
    },
    {
      "cell_type": "markdown",
      "metadata": {
        "id": "gxiIXLemTDhB"
      },
      "source": [
        "# Porcentagem dos alunos que participaram de acordo com o sexo"
      ]
    },
    {
      "cell_type": "code",
      "metadata": {
        "id": "Hzsd2YuUIgSD",
        "colab": {
          "base_uri": "https://localhost:8080/",
          "height": 247
        },
        "outputId": "4b069ac2-31bb-463d-8c60-ccc31baed7c1"
      },
      "source": [
        "# create data \n",
        "a = 'Masculino\\n%.2f%%' %(float(str((sexos[1]/(sexos[1]+sexos[0]))*100)))\n",
        "b = 'Feminino\\n%.2f%%' %(float(str((sexos[0]/(sexos[1]+sexos[0]))*100)))\n",
        "\n",
        "names = [b, a]\n",
        "size = [sexos[0],sexos[1]]\n",
        "\n",
        "# Create a pieplot\n",
        "#plt.pie(size,labels=names)\n",
        " \n",
        "# Create a circle at the center of the plot\n",
        "my_circle = plt.Circle( (0,0), 0.7, color='white')\n",
        "plt.pie(size, labels=names, colors=[('#957DAD'),('#E0BBE4')])\n",
        "p = plt.gcf()\n",
        "p.gca().add_artist(my_circle)\n",
        "\n",
        "# general layout\n",
        "plt.legend(loc=4, bbox_to_anchor=(0.9, 0, 0.5, 1))\n",
        "\n",
        "p.savefig('g2.png')\n",
        "\n",
        "# Show the graph\n",
        "plt.show()"
      ],
      "execution_count": null,
      "outputs": [
        {
          "output_type": "display_data",
          "data": {
            "image/png": "[encoded data removed]",
            "text/plain": [
              "<Figure size 432x288 with 1 Axes>"
            ]
          },
          "metadata": {
            "tags": []
          }
        }
      ]
    },
    {
      "cell_type": "code",
      "metadata": {
        "id": "KKpkXgP7tYqw",
        "colab": {
          "base_uri": "https://localhost:8080/"
        },
        "outputId": "415ff7f6-b2ea-407f-ab44-1102865154b4"
      },
      "source": [
        "df_aux = df.groupby(['CANAL']).count()\n",
        "\n",
        "for i in df_aux.iterrows():\n",
        "   print(i[0])"
      ],
      "execution_count": null,
      "outputs": [
        {
          "output_type": "stream",
          "text": [
            "Chat\n",
            "Microfone\n"
          ],
          "name": "stdout"
        }
      ]
    },
    {
      "cell_type": "code",
      "metadata": {
        "id": "xBMY-ZNej-13",
        "colab": {
          "base_uri": "https://localhost:8080/"
        },
        "outputId": "9504ea5b-7e45-467d-e518-d218bb0497f9"
      },
      "source": [
        "df_aux = df.groupby(['AULA','CANAL']).count()\n",
        "datas = []\n",
        "chats = []\n",
        "microfones = []\n",
        "for i in df_aux.iterrows():\n",
        "  if(i[0][1] == 'Chat'):\n",
        "    chats += [i[1][0]]\n",
        "    datas +=  [str(i[0][0])[0:10]]\n",
        "  else:\n",
        "    microfones += [i[1][0]]\n",
        "chats"
      ],
      "execution_count": null,
      "outputs": [
        {
          "output_type": "execute_result",
          "data": {
            "text/plain": [
              "[136, 381, 64, 172, 135, 214, 226, 125, 233, 107]"
            ]
          },
          "metadata": {
            "tags": []
          },
          "execution_count": 73
        }
      ]
    },
    {
      "cell_type": "markdown",
      "metadata": {
        "id": "6cFM_JZeSv2k"
      },
      "source": [
        "# O canal mais utilizado no semestre"
      ]
    },
    {
      "cell_type": "code",
      "metadata": {
        "id": "6-pvY1NYkLXS",
        "colab": {
          "base_uri": "https://localhost:8080/",
          "height": 432
        },
        "outputId": "2ef9dadf-609b-42ef-bec1-5c7ec2526b8a"
      },
      "source": [
        "Microfone = microfones\n",
        "Chat = chats\n",
        "index = datas\n",
        "df_aux2 = pd.DataFrame({'Microfone': Microfone,\n",
        "                   'Chat': Chat}, index=index)\n",
        "ax = df_aux2.plot.bar(rot=0,width = 0.5,color=[('#957DAD'),('#E0BBE4')],figsize=(15,7))\n",
        "fig = ax.get_figure()\n",
        "fig.savefig('g3.png')"
      ],
      "execution_count": null,
      "outputs": [
        {
          "output_type": "display_data",
          "data": {
            "image/png": "[encoded data removed]",
            "text/plain": [
              "<Figure size 1080x504 with 1 Axes>"
            ]
          },
          "metadata": {
            "tags": [],
            "needs_background": "light"
          }
        }
      ]
    },
    {
      "cell_type": "code",
      "metadata": {
        "id": "jhAOWizjWWpj",
        "colab": {
          "base_uri": "https://localhost:8080/"
        },
        "outputId": "92f6666a-82b2-4313-b056-8c570bb07b08"
      },
      "source": [
        "from google.colab import drive\n",
        "drive.mount('/content/drive')"
      ],
      "execution_count": null,
      "outputs": [
        {
          "output_type": "stream",
          "text": [
            "Drive already mounted at /content/drive; to attempt to forcibly remount, call drive.mount(\"/content/drive\", force_remount=True).\n"
          ],
          "name": "stdout"
        }
      ]
    },
    {
      "cell_type": "markdown",
      "metadata": {
        "id": "IULU4XcESah-"
      },
      "source": [
        "# Aula com +/- participação da turma"
      ]
    },
    {
      "cell_type": "code",
      "metadata": {
        "id": "eIS5Opx-9RbI",
        "colab": {
          "base_uri": "https://localhost:8080/",
          "height": 427
        },
        "outputId": "1500492c-38fc-407f-bcb8-4ad0abcb3040"
      },
      "source": [
        "lista = list(np.add(microfones, chats))\n",
        "df_aux2 = pd.DataFrame({'Interações': lista}, index=datas)\n",
        "ax = df_aux2.plot.bar(rot=0,color=[('#957DAD')],width = 0.5,figsize=(15,7))\n",
        "fig = ax.get_figure()\n",
        "fig.savefig('g4.png')"
      ],
      "execution_count": null,
      "outputs": [
        {
          "output_type": "display_data",
          "data": {
            "image/png": "[encoded data removed]",
            "text/plain": [
              "<Figure size 1080x504 with 1 Axes>"
            ]
          },
          "metadata": {
            "tags": [],
            "needs_background": "light"
          }
        }
      ]
    },
    {
      "cell_type": "code",
      "metadata": {
        "id": "fME3SL4jl2uO",
        "colab": {
          "base_uri": "https://localhost:8080/",
          "height": 294
        },
        "outputId": "0172588d-7583-4f6c-8d83-7d74e7ff0f68"
      },
      "source": [
        "df.groupby(['INTERAÇÃO']).count()"
      ],
      "execution_count": null,
      "outputs": [
        {
          "output_type": "execute_result",
          "data": {
            "text/html": [
              "<div>\n",
              "<style scoped>\n",
              "    .dataframe tbody tr th:only-of-type {\n",
              "        vertical-align: middle;\n",
              "    }\n",
              "\n",
              "    .dataframe tbody tr th {\n",
              "        vertical-align: top;\n",
              "    }\n",
              "\n",
              "    .dataframe thead th {\n",
              "        text-align: right;\n",
              "    }\n",
              "</style>\n",
              "<table border=\"1\" class=\"dataframe\">\n",
              "  <thead>\n",
              "    <tr style=\"text-align: right;\">\n",
              "      <th></th>\n",
              "      <th>ID</th>\n",
              "      <th>AULA</th>\n",
              "      <th>CANAL</th>\n",
              "      <th>ALUNO</th>\n",
              "      <th>SEXO</th>\n",
              "    </tr>\n",
              "    <tr>\n",
              "      <th>INTERAÇÃO</th>\n",
              "      <th></th>\n",
              "      <th></th>\n",
              "      <th></th>\n",
              "      <th></th>\n",
              "      <th></th>\n",
              "    </tr>\n",
              "  </thead>\n",
              "  <tbody>\n",
              "    <tr>\n",
              "      <th>Comentário</th>\n",
              "      <td>770</td>\n",
              "      <td>770</td>\n",
              "      <td>770</td>\n",
              "      <td>770</td>\n",
              "      <td>770</td>\n",
              "    </tr>\n",
              "    <tr>\n",
              "      <th>Despedida</th>\n",
              "      <td>136</td>\n",
              "      <td>136</td>\n",
              "      <td>136</td>\n",
              "      <td>136</td>\n",
              "      <td>136</td>\n",
              "    </tr>\n",
              "    <tr>\n",
              "      <th>Diálogo</th>\n",
              "      <td>45</td>\n",
              "      <td>45</td>\n",
              "      <td>45</td>\n",
              "      <td>45</td>\n",
              "      <td>45</td>\n",
              "    </tr>\n",
              "    <tr>\n",
              "      <th>Outros</th>\n",
              "      <td>31</td>\n",
              "      <td>31</td>\n",
              "      <td>31</td>\n",
              "      <td>31</td>\n",
              "      <td>31</td>\n",
              "    </tr>\n",
              "    <tr>\n",
              "      <th>Pergunta</th>\n",
              "      <td>191</td>\n",
              "      <td>191</td>\n",
              "      <td>191</td>\n",
              "      <td>191</td>\n",
              "      <td>191</td>\n",
              "    </tr>\n",
              "    <tr>\n",
              "      <th>Resposta</th>\n",
              "      <td>689</td>\n",
              "      <td>689</td>\n",
              "      <td>689</td>\n",
              "      <td>689</td>\n",
              "      <td>689</td>\n",
              "    </tr>\n",
              "    <tr>\n",
              "      <th>Risada</th>\n",
              "      <td>211</td>\n",
              "      <td>211</td>\n",
              "      <td>211</td>\n",
              "      <td>211</td>\n",
              "      <td>211</td>\n",
              "    </tr>\n",
              "  </tbody>\n",
              "</table>\n",
              "</div>"
            ],
            "text/plain": [
              "             ID  AULA  CANAL  ALUNO  SEXO\n",
              "INTERAÇÃO                                \n",
              "Comentário  770   770    770    770   770\n",
              "Despedida   136   136    136    136   136\n",
              "Diálogo      45    45     45     45    45\n",
              "Outros       31    31     31     31    31\n",
              "Pergunta    191   191    191    191   191\n",
              "Resposta    689   689    689    689   689\n",
              "Risada      211   211    211    211   211"
            ]
          },
          "metadata": {
            "tags": []
          },
          "execution_count": 77
        }
      ]
    },
    {
      "cell_type": "code",
      "metadata": {
        "id": "grVaeqF2o0zB",
        "colab": {
          "base_uri": "https://localhost:8080/"
        },
        "outputId": "bc5b2a97-e6f5-49cc-de52-ce18707a49eb"
      },
      "source": [
        "df_aux = df.groupby(['AULA','INTERAÇÃO']).count()\n",
        "datas = []\n",
        "comentario = []\n",
        "despedida = []\n",
        "dialogo = []\n",
        "outros = []\n",
        "pergunta = []\n",
        "resposta = []\n",
        "risada = []\n",
        "\n",
        "for i in df_aux.iterrows():\n",
        "  if(i[0][1] == 'Comentário'):\n",
        "    datas +=  [str(i[0][0])[0:10]]\n",
        "    comentario += [i[1][0]]\n",
        "  elif(i[0][1] == 'Despedida'):\n",
        "    despedida += [i[1][0]]\n",
        "  elif(i[0][1] == 'Diálogo'):\n",
        "    dialogo += [i[1][0]]\n",
        "  elif(i[0][1] == 'Outros'):\n",
        "    outros += [i[1][0]]\n",
        "  elif(i[0][1] == 'Pergunta'):\n",
        "    pergunta += [i[1][0]]\n",
        "  elif(i[0][1] == 'Resposta'):\n",
        "    resposta += [i[1][0]]\n",
        "  elif(i[0][1] == 'Risada'):\n",
        "    risada += [i[1][0]]\n",
        "\n",
        "despedida.insert(1, 0)\n",
        "outros.insert(2,0)\n",
        "\n",
        "print(datas)\n",
        "print(comentario)\n",
        "print(despedida)\n",
        "print(dialogo)\n",
        "print(outros) \n",
        "print(pergunta)\n",
        "print(resposta)\n",
        "print(risada)"
      ],
      "execution_count": null,
      "outputs": [
        {
          "output_type": "stream",
          "text": [
            "['2021-03-09', '2021-03-23', '2021-04-06', '2021-04-13', '2021-04-20', '2021-05-04', '2021-05-18', '2021-05-25', '2021-06-01', '2021-06-08']\n",
            "[62, 139, 24, 110, 70, 79, 80, 53, 114, 39]\n",
            "[18, 0, 15, 11, 22, 1, 18, 16, 19, 16]\n",
            "[8, 5, 3, 2, 9, 1, 2, 9, 3, 3]\n",
            "[3, 6, 0, 2, 2, 3, 6, 4, 3, 2]\n",
            "[20, 21, 3, 11, 22, 19, 32, 23, 19, 21]\n",
            "[40, 224, 36, 35, 52, 117, 75, 41, 49, 20]\n",
            "[26, 24, 5, 24, 7, 27, 31, 13, 36, 18]\n"
          ],
          "name": "stdout"
        }
      ]
    },
    {
      "cell_type": "code",
      "metadata": {
        "id": "Ch4BXg7Qt10E",
        "colab": {
          "base_uri": "https://localhost:8080/",
          "height": 445
        },
        "outputId": "b6a12065-3716-4024-bd02-bfb0e6f572ed"
      },
      "source": [
        "df.groupby(['AULA','INTERAÇÃO']).count()"
      ],
      "execution_count": null,
      "outputs": [
        {
          "output_type": "execute_result",
          "data": {
            "text/html": [
              "<div>\n",
              "<style scoped>\n",
              "    .dataframe tbody tr th:only-of-type {\n",
              "        vertical-align: middle;\n",
              "    }\n",
              "\n",
              "    .dataframe tbody tr th {\n",
              "        vertical-align: top;\n",
              "    }\n",
              "\n",
              "    .dataframe thead th {\n",
              "        text-align: right;\n",
              "    }\n",
              "</style>\n",
              "<table border=\"1\" class=\"dataframe\">\n",
              "  <thead>\n",
              "    <tr style=\"text-align: right;\">\n",
              "      <th></th>\n",
              "      <th></th>\n",
              "      <th>ID</th>\n",
              "      <th>CANAL</th>\n",
              "      <th>ALUNO</th>\n",
              "      <th>SEXO</th>\n",
              "    </tr>\n",
              "    <tr>\n",
              "      <th>AULA</th>\n",
              "      <th>INTERAÇÃO</th>\n",
              "      <th></th>\n",
              "      <th></th>\n",
              "      <th></th>\n",
              "      <th></th>\n",
              "    </tr>\n",
              "  </thead>\n",
              "  <tbody>\n",
              "    <tr>\n",
              "      <th rowspan=\"5\" valign=\"top\">2021-03-09</th>\n",
              "      <th>Comentário</th>\n",
              "      <td>62</td>\n",
              "      <td>62</td>\n",
              "      <td>62</td>\n",
              "      <td>62</td>\n",
              "    </tr>\n",
              "    <tr>\n",
              "      <th>Despedida</th>\n",
              "      <td>18</td>\n",
              "      <td>18</td>\n",
              "      <td>18</td>\n",
              "      <td>18</td>\n",
              "    </tr>\n",
              "    <tr>\n",
              "      <th>Diálogo</th>\n",
              "      <td>8</td>\n",
              "      <td>8</td>\n",
              "      <td>8</td>\n",
              "      <td>8</td>\n",
              "    </tr>\n",
              "    <tr>\n",
              "      <th>Outros</th>\n",
              "      <td>3</td>\n",
              "      <td>3</td>\n",
              "      <td>3</td>\n",
              "      <td>3</td>\n",
              "    </tr>\n",
              "    <tr>\n",
              "      <th>Pergunta</th>\n",
              "      <td>20</td>\n",
              "      <td>20</td>\n",
              "      <td>20</td>\n",
              "      <td>20</td>\n",
              "    </tr>\n",
              "    <tr>\n",
              "      <th>...</th>\n",
              "      <th>...</th>\n",
              "      <td>...</td>\n",
              "      <td>...</td>\n",
              "      <td>...</td>\n",
              "      <td>...</td>\n",
              "    </tr>\n",
              "    <tr>\n",
              "      <th rowspan=\"5\" valign=\"top\">2021-06-08</th>\n",
              "      <th>Diálogo</th>\n",
              "      <td>3</td>\n",
              "      <td>3</td>\n",
              "      <td>3</td>\n",
              "      <td>3</td>\n",
              "    </tr>\n",
              "    <tr>\n",
              "      <th>Outros</th>\n",
              "      <td>2</td>\n",
              "      <td>2</td>\n",
              "      <td>2</td>\n",
              "      <td>2</td>\n",
              "    </tr>\n",
              "    <tr>\n",
              "      <th>Pergunta</th>\n",
              "      <td>21</td>\n",
              "      <td>21</td>\n",
              "      <td>21</td>\n",
              "      <td>21</td>\n",
              "    </tr>\n",
              "    <tr>\n",
              "      <th>Resposta</th>\n",
              "      <td>20</td>\n",
              "      <td>20</td>\n",
              "      <td>20</td>\n",
              "      <td>20</td>\n",
              "    </tr>\n",
              "    <tr>\n",
              "      <th>Risada</th>\n",
              "      <td>18</td>\n",
              "      <td>18</td>\n",
              "      <td>18</td>\n",
              "      <td>18</td>\n",
              "    </tr>\n",
              "  </tbody>\n",
              "</table>\n",
              "<p>68 rows × 4 columns</p>\n",
              "</div>"
            ],
            "text/plain": [
              "                       ID  CANAL  ALUNO  SEXO\n",
              "AULA       INTERAÇÃO                         \n",
              "2021-03-09 Comentário  62     62     62    62\n",
              "           Despedida   18     18     18    18\n",
              "           Diálogo      8      8      8     8\n",
              "           Outros       3      3      3     3\n",
              "           Pergunta    20     20     20    20\n",
              "...                    ..    ...    ...   ...\n",
              "2021-06-08 Diálogo      3      3      3     3\n",
              "           Outros       2      2      2     2\n",
              "           Pergunta    21     21     21    21\n",
              "           Resposta    20     20     20    20\n",
              "           Risada      18     18     18    18\n",
              "\n",
              "[68 rows x 4 columns]"
            ]
          },
          "metadata": {
            "tags": []
          },
          "execution_count": 79
        }
      ]
    },
    {
      "cell_type": "markdown",
      "metadata": {
        "id": "OdVleXVPSNqR"
      },
      "source": [
        "#  A interação + frequente no semestre (chat + microfone)"
      ]
    },
    {
      "cell_type": "code",
      "metadata": {
        "id": "eCmWYlhNrlgx",
        "colab": {
          "base_uri": "https://localhost:8080/",
          "height": 427
        },
        "outputId": "66618307-09a5-4ebc-99eb-ea8ed93a71ef"
      },
      "source": [
        "df_a = pd.DataFrame({\n",
        "   'Comentário': comentario,\n",
        "   'Despedida': despedida,\n",
        "   'Diálogo': dialogo,\n",
        "   'Outros': outros,\n",
        "   'Pergunta': pergunta,\n",
        "   'Resposta': resposta,\n",
        "   'Risada': risada\n",
        "   }, index=datas)\n",
        "\n",
        "ax=df_a.plot.line(figsize=(15,7))\n",
        "plt.xticks(range(0,len(df_a.index)), df_a.index)\n",
        "\n",
        "fig = ax.get_figure()\n",
        "fig.savefig('g5.png')\n",
        "\n",
        "plt.show()"
      ],
      "execution_count": null,
      "outputs": [
        {
          "output_type": "display_data",
          "data": {
            "image/png": "[encoded data removed]",
            "text/plain": [
              "<Figure size 1080x504 with 1 Axes>"
            ]
          },
          "metadata": {
            "tags": [],
            "needs_background": "light"
          }
        }
      ]
    },
    {
      "cell_type": "code",
      "metadata": {
        "id": "JHpaYVt_YvaW",
        "colab": {
          "base_uri": "https://localhost:8080/",
          "height": 445
        },
        "outputId": "9711e947-b459-4616-ffb1-ce195043ed94"
      },
      "source": [
        "df.groupby(['AULA','INTERAÇÃO', 'CANAL']).count()"
      ],
      "execution_count": null,
      "outputs": [
        {
          "output_type": "execute_result",
          "data": {
            "text/html": [
              "<div>\n",
              "<style scoped>\n",
              "    .dataframe tbody tr th:only-of-type {\n",
              "        vertical-align: middle;\n",
              "    }\n",
              "\n",
              "    .dataframe tbody tr th {\n",
              "        vertical-align: top;\n",
              "    }\n",
              "\n",
              "    .dataframe thead th {\n",
              "        text-align: right;\n",
              "    }\n",
              "</style>\n",
              "<table border=\"1\" class=\"dataframe\">\n",
              "  <thead>\n",
              "    <tr style=\"text-align: right;\">\n",
              "      <th></th>\n",
              "      <th></th>\n",
              "      <th></th>\n",
              "      <th>ID</th>\n",
              "      <th>ALUNO</th>\n",
              "      <th>SEXO</th>\n",
              "    </tr>\n",
              "    <tr>\n",
              "      <th>AULA</th>\n",
              "      <th>INTERAÇÃO</th>\n",
              "      <th>CANAL</th>\n",
              "      <th></th>\n",
              "      <th></th>\n",
              "      <th></th>\n",
              "    </tr>\n",
              "  </thead>\n",
              "  <tbody>\n",
              "    <tr>\n",
              "      <th rowspan=\"5\" valign=\"top\">2021-03-09</th>\n",
              "      <th rowspan=\"2\" valign=\"top\">Comentário</th>\n",
              "      <th>Chat</th>\n",
              "      <td>60</td>\n",
              "      <td>60</td>\n",
              "      <td>60</td>\n",
              "    </tr>\n",
              "    <tr>\n",
              "      <th>Microfone</th>\n",
              "      <td>2</td>\n",
              "      <td>2</td>\n",
              "      <td>2</td>\n",
              "    </tr>\n",
              "    <tr>\n",
              "      <th rowspan=\"2\" valign=\"top\">Despedida</th>\n",
              "      <th>Chat</th>\n",
              "      <td>12</td>\n",
              "      <td>12</td>\n",
              "      <td>12</td>\n",
              "    </tr>\n",
              "    <tr>\n",
              "      <th>Microfone</th>\n",
              "      <td>6</td>\n",
              "      <td>6</td>\n",
              "      <td>6</td>\n",
              "    </tr>\n",
              "    <tr>\n",
              "      <th>Diálogo</th>\n",
              "      <th>Microfone</th>\n",
              "      <td>8</td>\n",
              "      <td>8</td>\n",
              "      <td>8</td>\n",
              "    </tr>\n",
              "    <tr>\n",
              "      <th>...</th>\n",
              "      <th>...</th>\n",
              "      <th>...</th>\n",
              "      <td>...</td>\n",
              "      <td>...</td>\n",
              "      <td>...</td>\n",
              "    </tr>\n",
              "    <tr>\n",
              "      <th rowspan=\"5\" valign=\"top\">2021-06-08</th>\n",
              "      <th rowspan=\"2\" valign=\"top\">Pergunta</th>\n",
              "      <th>Chat</th>\n",
              "      <td>18</td>\n",
              "      <td>18</td>\n",
              "      <td>18</td>\n",
              "    </tr>\n",
              "    <tr>\n",
              "      <th>Microfone</th>\n",
              "      <td>3</td>\n",
              "      <td>3</td>\n",
              "      <td>3</td>\n",
              "    </tr>\n",
              "    <tr>\n",
              "      <th rowspan=\"2\" valign=\"top\">Resposta</th>\n",
              "      <th>Chat</th>\n",
              "      <td>17</td>\n",
              "      <td>17</td>\n",
              "      <td>17</td>\n",
              "    </tr>\n",
              "    <tr>\n",
              "      <th>Microfone</th>\n",
              "      <td>3</td>\n",
              "      <td>3</td>\n",
              "      <td>3</td>\n",
              "    </tr>\n",
              "    <tr>\n",
              "      <th>Risada</th>\n",
              "      <th>Chat</th>\n",
              "      <td>18</td>\n",
              "      <td>18</td>\n",
              "      <td>18</td>\n",
              "    </tr>\n",
              "  </tbody>\n",
              "</table>\n",
              "<p>105 rows × 3 columns</p>\n",
              "</div>"
            ],
            "text/plain": [
              "                                 ID  ALUNO  SEXO\n",
              "AULA       INTERAÇÃO  CANAL                     \n",
              "2021-03-09 Comentário Chat       60     60    60\n",
              "                      Microfone   2      2     2\n",
              "           Despedida  Chat       12     12    12\n",
              "                      Microfone   6      6     6\n",
              "           Diálogo    Microfone   8      8     8\n",
              "...                              ..    ...   ...\n",
              "2021-06-08 Pergunta   Chat       18     18    18\n",
              "                      Microfone   3      3     3\n",
              "           Resposta   Chat       17     17    17\n",
              "                      Microfone   3      3     3\n",
              "           Risada     Chat       18     18    18\n",
              "\n",
              "[105 rows x 3 columns]"
            ]
          },
          "metadata": {
            "tags": []
          },
          "execution_count": 81
        }
      ]
    },
    {
      "cell_type": "code",
      "metadata": {
        "id": "1SKQVE1EZFmq",
        "colab": {
          "base_uri": "https://localhost:8080/"
        },
        "outputId": "cd9c1a2e-9a15-4368-cd65-fd252f661dde"
      },
      "source": [
        "df_aux = df.groupby(['AULA','INTERAÇÃO', 'CANAL']).count()\n",
        "\n",
        "datas = []\n",
        "chats = []\n",
        "microfones = []\n",
        "comentario = []\n",
        "despedida = []\n",
        "dialogo = []\n",
        "outros = []\n",
        "pergunta = []\n",
        "resposta = []\n",
        "risada = []\n",
        "\n",
        "for i in df_aux.iterrows():\n",
        "  if(i[0][1] == 'Comentário'):\n",
        "    datas +=  [str(i[0][0])[0:10]]\n",
        "    comentario += [i[1][0]]\n",
        "  elif(i[0][1] == 'Despedida'):\n",
        "    despedida += [i[1][0]]\n",
        "  elif(i[0][1] == 'Diálogo'):\n",
        "    dialogo += [i[1][0]]\n",
        "  elif(i[0][1] == 'Outros'):\n",
        "    outros += [i[1][0]]\n",
        "  elif(i[0][1] == 'Pergunta'):\n",
        "    pergunta += [i[1][0]]\n",
        "  elif(i[0][1] == 'Resposta'):\n",
        "    resposta += [i[1][0]]\n",
        "  elif(i[0][1] == 'Risada'):\n",
        "    risada += [i[1][0]]\n",
        "  if(i[0][2] == 'Microfone'):\n",
        "    microfones += [i[1][0]]\n",
        "  elif(i[0][2] == 'Chat'):\n",
        "    chats += [i[1][0]]\n",
        "\n",
        "despedida.insert(1, 0)\n",
        "outros.insert(2,0)\n",
        "\n",
        "print(datas)\n",
        "print(comentario)\n",
        "print(despedida)\n",
        "print(dialogo)\n",
        "print(outros) \n",
        "print(pergunta)\n",
        "print(resposta)\n",
        "print(risada)\n",
        "print(microfones)\n",
        "print(chats)\n"
      ],
      "execution_count": null,
      "outputs": [
        {
          "output_type": "stream",
          "text": [
            "['2021-03-09', '2021-03-09', '2021-03-23', '2021-03-23', '2021-04-06', '2021-04-06', '2021-04-13', '2021-04-13', '2021-04-20', '2021-04-20', '2021-05-04', '2021-05-04', '2021-05-18', '2021-05-18', '2021-05-25', '2021-05-25', '2021-06-01', '2021-06-08']\n",
            "[60, 2, 134, 5, 22, 2, 105, 5, 63, 7, 76, 3, 78, 2, 49, 4, 114, 39]\n",
            "[12, 0, 6, 9, 6, 6, 5, 15, 7, 1, 18, 13, 3, 19, 13, 3]\n",
            "[8, 5, 3, 2, 9, 1, 2, 9, 3, 3]\n",
            "[3, 6, 0, 2, 2, 3, 6, 4, 3, 2]\n",
            "[14, 6, 17, 4, 2, 1, 8, 3, 15, 7, 15, 4, 26, 6, 16, 7, 15, 4, 18, 3]\n",
            "[21, 19, 200, 24, 26, 10, 28, 7, 34, 18, 92, 25, 67, 8, 31, 10, 46, 3, 17, 3]\n",
            "[26, 24, 5, 23, 1, 6, 1, 27, 31, 12, 1, 36, 18]\n",
            "[2, 6, 8, 6, 19, 5, 5, 4, 24, 2, 6, 3, 1, 10, 5, 5, 2, 3, 7, 1, 7, 7, 9, 7, 18, 1, 3, 1, 4, 25, 2, 2, 6, 8, 4, 3, 9, 7, 10, 1, 3, 4, 3, 3, 3, 3, 3]\n",
            "[60, 12, 3, 14, 21, 26, 134, 6, 17, 200, 24, 22, 9, 2, 26, 5, 105, 6, 2, 8, 28, 23, 63, 15, 2, 15, 34, 6, 76, 1, 3, 15, 92, 27, 78, 18, 6, 26, 67, 31, 49, 13, 4, 16, 31, 12, 114, 19, 3, 15, 46, 36, 39, 13, 2, 18, 17, 18]\n"
          ],
          "name": "stdout"
        }
      ]
    },
    {
      "cell_type": "code",
      "metadata": {
        "id": "5sczdaMWjjFz",
        "colab": {
          "base_uri": "https://localhost:8080/"
        },
        "outputId": "64cab0ef-4066-4f7c-c9cd-8c80ca19b0dd"
      },
      "source": [
        "df_aux = df.groupby(['CANAL','INTERAÇÃO','AULA']).count()\n",
        "datas = []\n",
        "comentarios_chat = []\n",
        "despedidas_chat = []\n",
        "dialogos_chat = []\n",
        "outros_chat = []\n",
        "perguntas_chat = []\n",
        "respostas_chat = []\n",
        "risadas_chat = []\n",
        "comentarios_mic = []\n",
        "despedidas_mic = []\n",
        "dialogos_mic = []\n",
        "outros_mic = []\n",
        "perguntas_mic = []\n",
        "respostas_mic = []\n",
        "risadas_mic = []\n",
        "for i in df_aux.iterrows():\n",
        "  if(i[0][0] == 'Chat'):\n",
        "    if(i[0][1] == 'Comentário'):\n",
        "      datas += [str(i[0][2])[0:10]]\n",
        "      comentarios_chat += [i[1][0]]\n",
        "    elif(i[0][1] == 'Despedida'):\n",
        "      despedidas_chat += [i[1][0]]\n",
        "    elif(i[0][1] == 'Diálogo'):\n",
        "      dialogos_chat += [i[1][0]]\n",
        "    elif(i[0][1] == 'Outros'):\n",
        "      outros_chat += [i[1][0]]\n",
        "    elif(i[0][1] == 'Pergunta'):\n",
        "      perguntas_chat += [i[1][0]]\n",
        "    elif(i[0][1] == 'Resposta'):\n",
        "      respostas_chat += [i[1][0]]\n",
        "    elif(i[0][1] == 'Risada'):\n",
        "      risadas_chat += [i[1][0]]\n",
        "  if(i[0][0] == 'Microfone'):\n",
        "    if(i[0][1] == 'Comentário'):\n",
        "      comentarios_mic += [i[1][0]]\n",
        "    elif(i[0][1] == 'Despedida'):\n",
        "      despedidas_mic += [i[1][0]]\n",
        "    elif(i[0][1] == 'Diálogo'):\n",
        "      dialogos_mic += [i[1][0]]\n",
        "    elif(i[0][1] == 'Outros'):\n",
        "      outros_mic += [i[1][0]]\n",
        "    elif(i[0][1] == 'Pergunta'):\n",
        "      perguntas_mic += [i[1][0]]\n",
        "    elif(i[0][1] == 'Resposta'):\n",
        "      respostas_mic += [i[1][0]]\n",
        "    elif(i[0][1] == 'Risada'):\n",
        "      risadas_mic += [i[1][0]]\n",
        "despedidas_chat.insert(1, 0)\n",
        "outros_chat.insert(2,0)\n",
        "dialogos_chat = [0]*10\n",
        "\n",
        "outros_mic      = [0]*10\n",
        "\n",
        "comentarios_mic.insert(8,0)\n",
        "comentarios_mic.insert(9,0)\n",
        "\n",
        "despedidas_mic.insert(1,0)\n",
        "despedidas_mic.insert(5,0)\n",
        "despedidas_mic.insert(6,0)\n",
        "despedidas_mic.insert(8,0)\n",
        "\n",
        "risadas_mic.insert(0,0)\n",
        "risadas_mic.insert(1,0)\n",
        "risadas_mic.insert(2,0)\n",
        "risadas_mic.insert(5,0)\n",
        "risadas_mic.insert(6,0)\n",
        "risadas_mic.insert(8,0)\n",
        "risadas_mic.insert(9,0)\n",
        "print(\"Lista: \",comentarios_mic,\"\\n\\t - Tamaho: \",len(comentarios_mic))\n",
        "print(\"Lista: \",despedidas_mic,\"\\n\\t - Tamaho: \",len(despedidas_mic))\n",
        "print(\"Lista: \",dialogos_mic,\"\\n\\t - Tamaho: \",len(dialogos_mic))\n",
        "print(\"Lista: \",outros_mic,\"\\n\\t - Tamaho: \",len(outros_mic))\n",
        "print(\"Lista: \",perguntas_mic,\"\\n\\t - Tamaho: \",len(perguntas_mic))\n",
        "print(\"Lista: \",respostas_mic,\"\\n\\t - Tamaho: \",len(respostas_mic))\n",
        "print(\"Lista: \",risadas_mic,\"\\n\\t - Tamaho: \",len(risadas_mic))"
      ],
      "execution_count": null,
      "outputs": [
        {
          "output_type": "stream",
          "text": [
            "Lista:  [2, 5, 2, 5, 7, 3, 2, 4, 0, 0] \n",
            "\t - Tamaho:  10\n",
            "Lista:  [6, 0, 6, 5, 7, 0, 0, 3, 0, 3] \n",
            "\t - Tamaho:  10\n",
            "Lista:  [8, 5, 3, 2, 9, 1, 2, 9, 3, 3] \n",
            "\t - Tamaho:  10\n",
            "Lista:  [0, 0, 0, 0, 0, 0, 0, 0, 0, 0] \n",
            "\t - Tamaho:  10\n",
            "Lista:  [6, 4, 1, 3, 7, 4, 6, 7, 4, 3] \n",
            "\t - Tamaho:  10\n",
            "Lista:  [19, 24, 10, 7, 18, 25, 8, 10, 3, 3] \n",
            "\t - Tamaho:  10\n",
            "Lista:  [0, 0, 0, 1, 1, 0, 0, 1, 0, 0] \n",
            "\t - Tamaho:  10\n"
          ],
          "name": "stdout"
        }
      ]
    },
    {
      "cell_type": "markdown",
      "metadata": {
        "id": "-B3fvRnyR3Il"
      },
      "source": [
        "#  A interação + frequente no semestre (microfone)"
      ]
    },
    {
      "cell_type": "code",
      "metadata": {
        "id": "50vEkZik2WCg",
        "colab": {
          "base_uri": "https://localhost:8080/",
          "height": 427
        },
        "outputId": "6ac61054-38d3-494a-8e63-1804fec024cf"
      },
      "source": [
        "df_a = pd.DataFrame({\n",
        "   'Comentário': comentarios_mic,\n",
        "   'Despedida': despedidas_mic,\n",
        "   'Diálogo': dialogos_mic,\n",
        "   'Outros': outros_mic,\n",
        "   'Pergunta': perguntas_mic,\n",
        "   'Resposta': respostas_mic,\n",
        "   'Risada': risadas_mic\n",
        "   }, index=datas)\n",
        "\n",
        "ax=df_a.plot.line(figsize=(15,7))\n",
        "plt.xticks(range(0,len(df_a.index)), df_a.index)\n",
        "\n",
        "fig = ax.get_figure()\n",
        "fig.savefig('g6.png')\n",
        "\n",
        "plt.show()"
      ],
      "execution_count": null,
      "outputs": [
        {
          "output_type": "display_data",
          "data": {
            "image/png": "[encoded data removed]",
            "text/plain": [
              "<Figure size 1080x504 with 1 Axes>"
            ]
          },
          "metadata": {
            "tags": [],
            "needs_background": "light"
          }
        }
      ]
    },
    {
      "cell_type": "markdown",
      "metadata": {
        "id": "scjOPvbkRf8J"
      },
      "source": [
        "#  A interação + frequente no semestre (chat)"
      ]
    },
    {
      "cell_type": "code",
      "metadata": {
        "id": "IzBPXa0F4E8D",
        "colab": {
          "base_uri": "https://localhost:8080/",
          "height": 427
        },
        "outputId": "01f14030-7c98-4757-c0a8-3078674bee19"
      },
      "source": [
        "df_a = pd.DataFrame({\n",
        "   'Comentário': comentarios_chat,\n",
        "   'Despedida': despedidas_chat,\n",
        "   'Diálogo': dialogos_chat,\n",
        "   'Outros': outros_chat,\n",
        "   'Pergunta': perguntas_chat,\n",
        "   'Resposta': respostas_chat,\n",
        "   'Risada': risadas_chat\n",
        "   }, index=datas)\n",
        "\n",
        "ax=df_a.plot.line(figsize=(15,7))\n",
        "plt.xticks(range(0,len(df_a.index)), df_a.index)\n",
        "\n",
        "fig = ax.get_figure()\n",
        "fig.savefig('g7.png')\n",
        "\n",
        "plt.show()"
      ],
      "execution_count": null,
      "outputs": [
        {
          "output_type": "display_data",
          "data": {
            "image/png": "[encoded data removed]",
            "text/plain": [
              "<Figure size 1080x504 with 1 Axes>"
            ]
          },
          "metadata": {
            "tags": [],
            "needs_background": "light"
          }
        }
      ]
    },
    {
      "cell_type": "markdown",
      "metadata": {
        "id": "oKHFiU6XPwJb"
      },
      "source": [
        " # Os 10 alunos + participativos do semestre (geral)"
      ]
    },
    {
      "cell_type": "code",
      "metadata": {
        "id": "65kQ27uzQjlo"
      },
      "source": [
        "df_aux = df.groupby(['ALUNO']).count()\n",
        "\n",
        "df_aux = df_aux.sort_values(\n",
        "   by=\"ID\",ascending=False\n",
        ")"
      ],
      "execution_count": null,
      "outputs": []
    },
    {
      "cell_type": "code",
      "metadata": {
        "id": "MqXygyaKPcF9"
      },
      "source": [
        "qnt_masculinos = []\n",
        "masculinos = []\n",
        "qnt_femininos = []\n",
        "femininos = []\n",
        "geral = []\n",
        "qnt_geral = []\n",
        "for i in df_aux.iterrows():\n",
        "  geral += [i[0]]\n",
        "  qnt_geral += [i[1][0]]\n",
        "\n",
        "\n",
        "for i in range(len(geral)):\n",
        "  for a in df.iterrows():\n",
        "    if(geral[i] == a[1][4]):\n",
        "      if(a[1][5]=='Masculino'):\n",
        "        masculinos += [geral[i]]\n",
        "        qnt_masculinos += [qnt_geral[i]]\n",
        "        break\n",
        "      else:\n",
        "        femininos += [geral[i]]\n",
        "        qnt_femininos += [qnt_geral[i]]\n",
        "        break"
      ],
      "execution_count": null,
      "outputs": []
    },
    {
      "cell_type": "code",
      "metadata": {
        "id": "AV7V0uqqPoqH",
        "colab": {
          "base_uri": "https://localhost:8080/",
          "height": 320
        },
        "outputId": "ab4490e6-209f-4c77-e294-72677e216f0a"
      },
      "source": [
        "df_b = pd.DataFrame({'Alunos': geral[9::-1], 'Interações': qnt_geral[9::-1]})\n",
        "ax = df_b.plot.barh(x='Alunos', y='Interações', color=[('#957DAD')],figsize=(12,5))\n",
        "fig = ax.get_figure()\n",
        "fig.savefig('g8.png')"
      ],
      "execution_count": null,
      "outputs": [
        {
          "output_type": "display_data",
          "data": {
            "image/png": "[encoded data removed]",
            "text/plain": [
              "<Figure size 864x360 with 1 Axes>"
            ]
          },
          "metadata": {
            "tags": [],
            "needs_background": "light"
          }
        }
      ]
    },
    {
      "cell_type": "markdown",
      "metadata": {
        "id": "8C8RVf0GQLEv"
      },
      "source": [
        "# Os 10 alunos + participativos do semestre (masculino)\n"
      ]
    },
    {
      "cell_type": "code",
      "metadata": {
        "id": "hwPrTN-mQcMn",
        "colab": {
          "base_uri": "https://localhost:8080/",
          "height": 320
        },
        "outputId": "6888530c-2468-490c-d50a-40d3f8635d16"
      },
      "source": [
        "df_b = pd.DataFrame({'Alunos': masculinos[9::-1], 'Interações': qnt_masculinos[9::-1]})\n",
        "ax = df_b.plot.barh(x='Alunos', y='Interações', color=[('#957DAD')],figsize=(12,5))\n",
        "fig = ax.get_figure()\n",
        "fig.savefig('g9.png')"
      ],
      "execution_count": null,
      "outputs": [
        {
          "output_type": "display_data",
          "data": {
            "image/png": "[encoded data removed]",
            "text/plain": [
              "<Figure size 864x360 with 1 Axes>"
            ]
          },
          "metadata": {
            "tags": [],
            "needs_background": "light"
          }
        }
      ]
    },
    {
      "cell_type": "markdown",
      "metadata": {
        "id": "30ylNdyRRLae"
      },
      "source": [
        "# Os 10 alunos + participativos do semestre (feminino)"
      ]
    },
    {
      "cell_type": "code",
      "metadata": {
        "id": "8rx_S25UQ1fM",
        "colab": {
          "base_uri": "https://localhost:8080/",
          "height": 320
        },
        "outputId": "09c9c5b1-b7d2-4037-856a-b671b963a217"
      },
      "source": [
        "df_b = pd.DataFrame({'Alunos': femininos[7::-1], 'Interações': qnt_femininos[7::-1]})\n",
        "ax = df_b.plot.barh(x='Alunos', y='Interações', color=[('#957DAD')],figsize=(11,5))\n",
        "fig = ax.get_figure()\n",
        "fig.savefig('g10.png')"
      ],
      "execution_count": null,
      "outputs": [
        {
          "output_type": "display_data",
          "data": {
            "image/png": "[encoded data removed]",
            "text/plain": [
              "<Figure size 792x360 with 1 Axes>"
            ]
          },
          "metadata": {
            "tags": [],
            "needs_background": "light"
          }
        }
      ]
    }
  ]
}